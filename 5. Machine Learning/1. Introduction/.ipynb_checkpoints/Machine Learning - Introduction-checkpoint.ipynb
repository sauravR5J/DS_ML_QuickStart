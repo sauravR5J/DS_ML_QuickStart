{
 "cells": [
  {
   "cell_type": "markdown",
   "metadata": {},
   "source": [
    "## What is Machine Learning ?\n",
    "\n",
    "* Machine learning is a method of data analysis that automates analytical model building.\n",
    "* Using algorithms that iteratively learn from data, machine learning allows computers to find hidden insights without being explicitly programmed where to look.\n",
    " "
   ]
  },
  {
   "cell_type": "markdown",
   "metadata": {},
   "source": [
    "## What it is Used For ?\n",
    "* Fraud detection.\n",
    "* Web search results.\n",
    "* Real-time ads on web pages\n",
    "* Credit scoring and next-best offers.\n",
    "* Prediction of equipment failures.\n",
    "* New pricing models.\n",
    "* Network intrusion detection.\n",
    "* Recommendation Engines\n",
    "* Customer Segmentation\n",
    "* Text Sentiment Analysis\n",
    "* Predicting Customer Churn\n",
    "* Pattern and image recognition. \n",
    "* Email spam filtering.\n",
    "* Financial Modeling"
   ]
  },
  {
   "cell_type": "markdown",
   "metadata": {},
   "source": [
    "## The Process\n",
    "\n",
    "<img src=\"ML_Process.png\" height=\"500\" width=\"900\">"
   ]
  },
  {
   "cell_type": "markdown",
   "metadata": {},
   "source": [
    "## Types of Machine Learning\n",
    "\n",
    "* **Supervised Learning**\n",
    "* **Unsupervised Learning**"
   ]
  },
  {
   "cell_type": "markdown",
   "metadata": {},
   "source": [
    "### Supervised Learning\n",
    "\n",
    "Supervised learning algorithms are trained using labeled examples, such as an input where the desired output is known.<br>\n",
    "For example, a piece of equipment could have data points labeled either “F” (failed) or “R” (runs). <br>\n",
    "\n",
    "1. The learning algorithm receives a set of inputs along with the corresponding correct outputs, and the algorithm learns by comparing its actual output with correct outputs to find errors.\n",
    "2. It then modifies the model accordingly.\n",
    " \n",
    "Through methods like classification, regression, prediction and gradient boosting, supervised learning uses patterns to predict the values of the label on additional unlabeled data.<br>\n",
    "Supervised learning is commonly used in applications where historical data predicts likely future events.\n",
    " \n",
    "\n",
    "**Examples**\n",
    "* It can anticipate when credit card transactions are likely to be fraudulent or which insurance customer is likely to file a claim.\n",
    "* It can attempt to predict the price of a house based on different features for houses for which we have historical price data.\n",
    "<br><br><br>"
   ]
  },
  {
   "cell_type": "markdown",
   "metadata": {},
   "source": [
    "### Unsupervised Learning\n",
    "\n",
    "Unsupervised learning is used against data that has no historical labels. The system is not told the \"right answer.\" The algorithm must figure out what is being shown. The goal is to explore the data and find some structure within.<br>\n",
    "\n",
    "It can find the main attributes that separate data segments from each other.<br>\n",
    "\n",
    "Popular techniques include self-organizing maps, nearest-neighbor mapping, k-means clustering and singular value decomposition. <br>\n",
    "\n",
    "These algorithms are also used to segment text topics, recommend items and identify data outliers. <br><br><br><br>\n",
    " "
   ]
  },
  {
   "cell_type": "markdown",
   "metadata": {},
   "source": [
    "## Reinforcement Learning (Advanced)\n",
    "\n",
    "* Reinforcement learning is often used for robotics, gaming and navigation.\n",
    "* With reinforcement learning, the algorithm discovers through trial and error which actions yield the greatest rewards.\n",
    "* This type of learning has three primary components: the agent (the learner or decision maker), the environment (everything the agent interacts with) and actions (what the agent can do).\n",
    "    * The objective is for the agent to choose actions that maximize the expected reward over a given amount of time.\n",
    "    * The agent will reach the goal much faster by following a good policy.\n",
    " \n",
    " \n",
    " "
   ]
  }
 ],
 "metadata": {
  "kernelspec": {
   "display_name": "Python 3",
   "language": "python",
   "name": "python3"
  },
  "language_info": {
   "codemirror_mode": {
    "name": "ipython",
    "version": 3
   },
   "file_extension": ".py",
   "mimetype": "text/x-python",
   "name": "python",
   "nbconvert_exporter": "python",
   "pygments_lexer": "ipython3",
   "version": "3.7.3"
  }
 },
 "nbformat": 4,
 "nbformat_minor": 2
}
