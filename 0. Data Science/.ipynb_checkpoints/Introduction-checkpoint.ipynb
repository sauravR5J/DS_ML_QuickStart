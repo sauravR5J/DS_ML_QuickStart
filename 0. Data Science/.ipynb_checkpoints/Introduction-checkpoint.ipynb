{
 "cells": [
  {
   "cell_type": "markdown",
   "metadata": {},
   "source": [
    "## DATA SCIENCE (WHAT)\n",
    "\n",
    "Data science is the field of study that combines domain expertise, programming skills, and knowledge of math and statistics to extract meaningful insights from data. Data science practitioners apply machine learning algorithms to numbers, text, images, video, audio, and more to produce artificially intelligent (AI) systems that perform tasks which ordinarily require human intelligence. In turn, these systems generate insights that analysts and business users translate into tangible business value.\n",
    "___\n",
    "\n",
    "<img src='./Images_DS/DS_Poster.jpg' height='800px' width='800px'/>\n",
    "___"
   ]
  },
  {
   "cell_type": "markdown",
   "metadata": {},
   "source": [
    "## SKILLS\n",
    "\n",
    "Here we follow Excellent, Good, Average Rule.\n",
    "___\n",
    "\n",
    "<img src='./Images_DS/DS_Skills.png' height='550px' width='550px'/>\n",
    "___"
   ]
  },
  {
   "cell_type": "markdown",
   "metadata": {},
   "source": [
    "## THE PROCESS (HOW)\n",
    "___\n",
    "\n",
    "<img src='./Images_DS/DS_LIFE.png' height='600px' width='600px'/>\n",
    "___"
   ]
  },
  {
   "cell_type": "markdown",
   "metadata": {},
   "source": [
    "## WHERE (DOMAINS)\n",
    "\n",
    "___\n",
    "\n",
    "<img src='./Images_DS/DS_Applications.jpg' height='800px' width='8000px'/>\n",
    "___\n"
   ]
  }
 ],
 "metadata": {
  "kernelspec": {
   "display_name": "Python 3",
   "language": "python",
   "name": "python3"
  },
  "language_info": {
   "codemirror_mode": {
    "name": "ipython",
    "version": 3
   },
   "file_extension": ".py",
   "mimetype": "text/x-python",
   "name": "python",
   "nbconvert_exporter": "python",
   "pygments_lexer": "ipython3",
   "version": "3.7.3"
  }
 },
 "nbformat": 4,
 "nbformat_minor": 2
}
